{
 "cells": [
  {
   "cell_type": "code",
   "execution_count": 1,
   "id": "1b130890-e1ea-43fd-852b-8f3d08d6313d",
   "metadata": {},
   "outputs": [
    {
     "name": "stdout",
     "output_type": "stream",
     "text": [
      "Predicted T-Shirt size for Raju: Large\n"
     ]
    }
   ],
   "source": [
    "from sklearn.neighbors import KNeighborsClassifier\n",
    "import numpy as np\n",
    "\n",
    "x = np.array([[150, 50], [160, 60], [170, 70], [180, 80]])\n",
    "y = np.array(['Small', 'Medium', 'Large', 'Extra Large'])\n",
    "\n",
    "#new data point for raju\n",
    "raju_data = np.array([[161, 61]])\n",
    "\n",
    "#Initialize KNN classifier\n",
    "knn = KNeighborsClassifier(n_neighbors=3)\n",
    "\n",
    "#Fir the model\n",
    "knn.fit(x, y)\n",
    "\n",
    "#Predict Raju's T-shirt size\n",
    "predicted_size = knn.predict(raju_data)\n",
    "\n",
    "print(f\"Predicted T-Shirt size for Raju: {predicted_size[0]}\")"
   ]
  },
  {
   "cell_type": "code",
   "execution_count": 2,
   "id": "58a6ecd2-756d-497e-bb92-4252ea840a76",
   "metadata": {},
   "outputs": [
    {
     "name": "stdout",
     "output_type": "stream",
     "text": [
      "Iris Data set loaded...\n",
      "Datasset is split into training and testing...\n",
      "Size of training data and its label (135, 4) (135,)\n",
      "Size of testing data and its label (15, 4) (15,)\n",
      "Label 0 - setosa\n",
      "Label 1 - versicolor\n",
      "Label 2 - virginica\n"
     ]
    }
   ],
   "source": [
    "from sklearn.model_selection import train_test_split\n",
    "from sklearn.neighbors import KNeighborsClassifier\n",
    "from sklearn import datasets\n",
    "\n",
    "#Load Dataset\n",
    "iris = datasets.load_iris()\n",
    "print(\"Iris Data set loaded...\")\n",
    "\n",
    "# Split the data into train and test samples\n",
    "x_train, x_test, y_train, y_test = train_test_split(iris.data, iris.target, test_size = 0.1)\n",
    "print(\"Datasset is split into training and testing...\")\n",
    "print(\"Size of training data and its label\", x_train.shape, y_train.shape)\n",
    "print(\"Size of testing data and its label\", x_test.shape, y_test.shape)\n",
    "\n",
    "#Prints laebl no and their names\n",
    "for i in range(len(iris.target_names)):\n",
    "    print(\"Label\", i, \"-\", str(iris.target_names[i]))"
   ]
  }
 ],
 "metadata": {
  "kernelspec": {
   "display_name": "Python 3 (ipykernel)",
   "language": "python",
   "name": "python3"
  },
  "language_info": {
   "codemirror_mode": {
    "name": "ipython",
    "version": 3
   },
   "file_extension": ".py",
   "mimetype": "text/x-python",
   "name": "python",
   "nbconvert_exporter": "python",
   "pygments_lexer": "ipython3",
   "version": "3.11.7"
  }
 },
 "nbformat": 4,
 "nbformat_minor": 5
}
